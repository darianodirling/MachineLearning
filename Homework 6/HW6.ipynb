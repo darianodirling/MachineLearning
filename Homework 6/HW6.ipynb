{
 "cells": [
  {
   "cell_type": "markdown",
   "metadata": {},
   "source": [
    "# Homework 5 RF Accuracy Improvement\n",
    "\n",
    "This assignment is inspired by examples of Shan-Hung Wu from National Tsing Hua University.\n",
    "\n",
    "Requirement: improve the accuracy per feature of the following code from 0.03 up to at least 0.45 and accuracy should be more than 0.92\n",
    "\n",
    "Here are three hints:\n",
    "\n",
    "    You can improve the ratio by picking out or \"creating\" several features.\n",
    "    Tune hyperparameters\n",
    "    The ratio can be improved from 0.03 up to 0.47."
   ]
  },
  {
   "cell_type": "code",
   "execution_count": 2,
   "metadata": {},
   "outputs": [
    {
     "name": "stdout",
     "output_type": "stream",
     "text": [
      "Best Accuracy: 0.92\n",
      "Best Hyperparameters: {'n_estimators': 8, 'criterion': 'entropy'}\n",
      "Test Accuracy: 0.92\n",
      "Accuracy per Feature: 0.46\n"
     ]
    }
   ],
   "source": [
    "from sklearn.model_selection import train_test_split, RandomizedSearchCV\n",
    "from sklearn.datasets import load_breast_cancer\n",
    "from sklearn.metrics import accuracy_score\n",
    "from sklearn.ensemble import RandomForestClassifier\n",
    "from sklearn.decomposition import PCA\n",
    "import numpy as np\n",
    "\n",
    "# Load the breast cancer dataset and extract the data and labels\n",
    "breast_cancer_data = load_breast_cancer()\n",
    "X, y = load_breast_cancer(return_X_y=True)\n",
    "\n",
    "# Perform PCA to reduce the dimensionality to 2 components\n",
    "pca = PCA(n_components=2)\n",
    "X_pca = pca.fit_transform(X)\n",
    "\n",
    "# Split the data into training and testing sets (70% train, 30% test)\n",
    "X_train, X_test, y_train, y_test = train_test_split(X_pca, y, test_size=0.3, random_state=0)\n",
    "\n",
    "# Define the Random Forest Classifier and its hyperparameter search space\n",
    "clf = RandomForestClassifier()\n",
    "clf_params = {\n",
    "    'n_estimators': np.linspace(1, 10, 10, dtype=int),\n",
    "    'criterion': [\"gini\", \"entropy\"]\n",
    "}\n",
    "\n",
    "# Perform RandomizedSearchCV to find the best hyperparameters\n",
    "random_search = RandomizedSearchCV(estimator=clf, param_distributions=clf_params, n_iter=10, cv=5, error_score='raise')\n",
    "random_search.fit(X_train, y_train)\n",
    "\n",
    "# Print the best accuracy and hyperparameters\n",
    "best_accuracy = random_search.best_score_\n",
    "best_params = random_search.best_params_\n",
    "print(f'Best Accuracy: {best_accuracy:.2f}')\n",
    "print(f'Best Hyperparameters: {best_params}')\n",
    "\n",
    "# Make predictions using the best estimator\n",
    "best_estimator = random_search.best_estimator_\n",
    "y_pred = best_estimator.predict(X_test)\n",
    "\n",
    "# Calculate and print the accuracy and accuracy per feature\n",
    "test_accuracy = accuracy_score(y_test, y_pred)\n",
    "accuracy_per_feature = test_accuracy / X_pca.shape[1]\n",
    "\n",
    "print(f'Test Accuracy: {test_accuracy:.2f}')\n",
    "print(f'Accuracy per Feature: {accuracy_per_feature:.2f}')\n"
   ]
  },
  {
   "cell_type": "code",
   "execution_count": null,
   "metadata": {},
   "outputs": [],
   "source": []
  }
 ],
 "metadata": {
  "kernelspec": {
   "display_name": "Python 3 (ipykernel)",
   "language": "python",
   "name": "python3"
  },
  "language_info": {
   "codemirror_mode": {
    "name": "ipython",
    "version": 3
   },
   "file_extension": ".py",
   "mimetype": "text/x-python",
   "name": "python",
   "nbconvert_exporter": "python",
   "pygments_lexer": "ipython3",
   "version": "3.11.5"
  }
 },
 "nbformat": 4,
 "nbformat_minor": 2
}
