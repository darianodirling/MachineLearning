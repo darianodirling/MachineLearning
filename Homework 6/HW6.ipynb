{
 "cells": [
  {
   "cell_type": "markdown",
   "metadata": {},
   "source": [
    "# Homework 6 RF Accuracy Improvement\n",
    "\n",
    "This assignment is inspired by examples of Shan-Hung Wu from National Tsing Hua University.\n",
    "\n",
    "Requirement: improve the accuracy per feature of the following code from 0.03 up to at least 0.40 and accuracy should be more than 0.92\n",
    "\n",
    "Here are three hints:\n",
    "\n",
    "    You can improve the ratio by picking out or \"creating\" several features.\n",
    "    Tune hyperparameters\n",
    "    The ratio can be improved from 0.03 up to 0.47."
   ]
  },
  {
   "cell_type": "code",
   "execution_count": 1,
   "metadata": {},
   "outputs": [
    {
     "name": "stdout",
     "output_type": "stream",
     "text": [
      "(569, 30)\n"
     ]
    },
    {
     "ename": "TypeError",
     "evalue": "RandomizedSearchCV.__init__() got an unexpected keyword argument 'iid'",
     "output_type": "error",
     "traceback": [
      "\u001b[1;31m---------------------------------------------------------------------------\u001b[0m",
      "\u001b[1;31mTypeError\u001b[0m                                 Traceback (most recent call last)",
      "Cell \u001b[1;32mIn[1], line 34\u001b[0m\n\u001b[0;32m     31\u001b[0m clf \u001b[38;5;241m=\u001b[39m RandomForestClassifier()\n\u001b[0;32m     32\u001b[0m clf_params \u001b[38;5;241m=\u001b[39m {\u001b[38;5;124m'\u001b[39m\u001b[38;5;124mn_estimators\u001b[39m\u001b[38;5;124m'\u001b[39m: np\u001b[38;5;241m.\u001b[39mlinspace(\u001b[38;5;241m1\u001b[39m,\u001b[38;5;241m10\u001b[39m,\u001b[38;5;241m10\u001b[39m,dtype\u001b[38;5;241m=\u001b[39m\u001b[38;5;28mint\u001b[39m),\n\u001b[0;32m     33\u001b[0m               \u001b[38;5;124m'\u001b[39m\u001b[38;5;124mcriterion\u001b[39m\u001b[38;5;124m'\u001b[39m: [\u001b[38;5;124m\"\u001b[39m\u001b[38;5;124mgini\u001b[39m\u001b[38;5;124m\"\u001b[39m,\u001b[38;5;124m\"\u001b[39m\u001b[38;5;124mentropy\u001b[39m\u001b[38;5;124m\"\u001b[39m]}\n\u001b[1;32m---> 34\u001b[0m random_clf \u001b[38;5;241m=\u001b[39m RandomizedSearchCV(estimator\u001b[38;5;241m=\u001b[39mclf, param_distributions\u001b[38;5;241m=\u001b[39mclf_params,\n\u001b[0;32m     35\u001b[0m                                 n_iter\u001b[38;5;241m=\u001b[39m\u001b[38;5;241m10\u001b[39m, cv\u001b[38;5;241m=\u001b[39m\u001b[38;5;241m5\u001b[39m, iid\u001b[38;5;241m=\u001b[39m\u001b[38;5;28;01mTrue\u001b[39;00m, error_score\u001b[38;5;241m=\u001b[39m\u001b[38;5;124m'\u001b[39m\u001b[38;5;124mraise\u001b[39m\u001b[38;5;124m'\u001b[39m)\n\u001b[0;32m     36\u001b[0m random_clf\u001b[38;5;241m.\u001b[39mfit(X_train, y_train)\n\u001b[0;32m     37\u001b[0m \u001b[38;5;28mprint\u001b[39m(\u001b[38;5;124m'\u001b[39m\u001b[38;5;124maccuracy:\u001b[39m\u001b[38;5;124m'\u001b[39m, random_clf\u001b[38;5;241m.\u001b[39mbest_score_)\n",
      "\u001b[1;31mTypeError\u001b[0m: RandomizedSearchCV.__init__() got an unexpected keyword argument 'iid'"
     ]
    }
   ],
   "source": [
    "from sklearn.model_selection import train_test_split\n",
    "from sklearn.datasets import load_breast_cancer\n",
    "from sklearn.metrics import accuracy_score\n",
    "from sklearn.ensemble import RandomForestClassifier\n",
    "from sklearn.model_selection import RandomizedSearchCV\n",
    "from sklearn.decomposition import PCA\n",
    "import numpy as np\n",
    "import pandas as pd\n",
    "\n",
    "\n",
    "# load the breast_cancer dataset\n",
    "init_data = load_breast_cancer()\n",
    "(X, y) = load_breast_cancer(return_X_y=True)\n",
    "\n",
    "\n",
    "print(X.shape)\n",
    "\n",
    "\n",
    "pca = PCA(2)\n",
    "pca.fit(X)\n",
    "X = pca.transform(X)\n",
    "\n",
    "\n",
    "# split X into training and testing sets\n",
    "# 30% for testing\n",
    "X_train, X_test, y_train, y_test = train_test_split(X, y, test_size=0.3, random_state=0)\n",
    "\n",
    "\n",
    "# TODO Tune parameters for RandomForestClassifier\n",
    "# TODO train and generate prediction\n",
    "clf = RandomForestClassifier()\n",
    "clf_params = {'n_estimators': np.linspace(1,10,10,dtype=int),\n",
    "              'criterion': [\"gini\",\"entropy\"]}\n",
    "random_clf = RandomizedSearchCV(estimator=clf, param_distributions=clf_params,\n",
    "                                n_iter=10, cv=5, iid=True, error_score='raise')\n",
    "random_clf.fit(X_train, y_train)\n",
    "print('accuracy:', random_clf.best_score_)\n",
    "print('params:', random_clf.best_params_)\n",
    "\n",
    "\n",
    "y_pred = random_clf.best_estimator_.predict(X_test)\n",
    "\n",
    "\n",
    "print('Accuracy: %.2f' % accuracy_score(y_test, y_pred))\n",
    "# This is what we want to improve: accuracy/number of features\n",
    "print('Accuracy per feature: %.2f' % (accuracy_score(y_test, y_pred)/X.shape[1]))"
   ]
  },
  {
   "cell_type": "code",
   "execution_count": null,
   "metadata": {},
   "outputs": [],
   "source": []
  }
 ],
 "metadata": {
  "kernelspec": {
   "display_name": "Python 3 (ipykernel)",
   "language": "python",
   "name": "python3"
  },
  "language_info": {
   "codemirror_mode": {
    "name": "ipython",
    "version": 3
   },
   "file_extension": ".py",
   "mimetype": "text/x-python",
   "name": "python",
   "nbconvert_exporter": "python",
   "pygments_lexer": "ipython3",
   "version": "3.11.5"
  }
 },
 "nbformat": 4,
 "nbformat_minor": 2
}
